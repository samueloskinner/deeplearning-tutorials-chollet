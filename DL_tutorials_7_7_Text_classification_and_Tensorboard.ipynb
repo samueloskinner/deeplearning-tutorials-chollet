{
 "cells": [
  {
   "cell_type": "code",
   "execution_count": 1,
   "metadata": {},
   "outputs": [
    {
     "name": "stderr",
     "output_type": "stream",
     "text": [
      "Using TensorFlow backend.\n"
     ]
    }
   ],
   "source": [
    "import keras\n",
    "from keras import layers\n",
    "from keras.datasets import imdb\n",
    "from keras.preprocessing import sequence"
   ]
  },
  {
   "cell_type": "code",
   "execution_count": 2,
   "metadata": {},
   "outputs": [],
   "source": [
    "max_features = 2000\n",
    "max_len = 500"
   ]
  },
  {
   "cell_type": "code",
   "execution_count": 3,
   "metadata": {},
   "outputs": [],
   "source": [
    "(x_train, y_train), (x_test, y_test) = imdb.load_data(num_words=max_features)\n",
    "x_train = sequence.pad_sequences(x_train, maxlen=max_len)\n",
    "x_test  = sequence.pad_sequences(x_test, maxlen=max_len)"
   ]
  },
  {
   "cell_type": "code",
   "execution_count": 4,
   "metadata": {},
   "outputs": [
    {
     "name": "stdout",
     "output_type": "stream",
     "text": [
      "WARNING:tensorflow:From /Library/Frameworks/Python.framework/Versions/3.6/lib/python3.6/site-packages/tensorflow/python/util/deprecation.py:497: calling conv1d (from tensorflow.python.ops.nn_ops) with data_format=NHWC is deprecated and will be removed in a future version.\n",
      "Instructions for updating:\n",
      "`NHWC` for data_format is deprecated, use `NWC` instead\n",
      "WARNING:tensorflow:From /Library/Frameworks/Python.framework/Versions/3.6/lib/python3.6/site-packages/keras/backend/tensorflow_backend.py:1213: calling reduce_max (from tensorflow.python.ops.math_ops) with keep_dims is deprecated and will be removed in a future version.\n",
      "Instructions for updating:\n",
      "keep_dims is deprecated, use keepdims instead\n",
      "_________________________________________________________________\n",
      "Layer (type)                 Output Shape              Param #   \n",
      "=================================================================\n",
      "embed (Embedding)            (None, 500, 128)          256000    \n",
      "_________________________________________________________________\n",
      "conv1d_1 (Conv1D)            (None, 494, 32)           28704     \n",
      "_________________________________________________________________\n",
      "max_pooling1d_1 (MaxPooling1 (None, 98, 32)            0         \n",
      "_________________________________________________________________\n",
      "conv1d_2 (Conv1D)            (None, 92, 32)            7200      \n",
      "_________________________________________________________________\n",
      "global_max_pooling1d_1 (Glob (None, 32)                0         \n",
      "_________________________________________________________________\n",
      "dense_1 (Dense)              (None, 1)                 33        \n",
      "=================================================================\n",
      "Total params: 291,937\n",
      "Trainable params: 291,937\n",
      "Non-trainable params: 0\n",
      "_________________________________________________________________\n",
      "WARNING:tensorflow:From /Library/Frameworks/Python.framework/Versions/3.6/lib/python3.6/site-packages/keras/backend/tensorflow_backend.py:1349: calling reduce_mean (from tensorflow.python.ops.math_ops) with keep_dims is deprecated and will be removed in a future version.\n",
      "Instructions for updating:\n",
      "keep_dims is deprecated, use keepdims instead\n"
     ]
    }
   ],
   "source": [
    "model = keras.models.Sequential()\n",
    "model.add(layers.Embedding(max_features, 128, input_length=max_len, name='embed'))\n",
    "model.add(layers.Conv1D(32, 7, activation='relu'))\n",
    "model.add(layers.MaxPooling1D(5))\n",
    "model.add(layers.Conv1D(32, 7, activation='relu'))\n",
    "model.add(layers.GlobalMaxPooling1D())\n",
    "model.add(layers.Dense(1))\n",
    "model.summary()\n",
    "model.compile(optimizer='rmsprop', loss = 'binary_crossentropy', metrics=['acc'])"
   ]
  },
  {
   "cell_type": "code",
   "execution_count": 5,
   "metadata": {},
   "outputs": [
    {
     "name": "stdout",
     "output_type": "stream",
     "text": [
      "WARNING:tensorflow:From /Library/Frameworks/Python.framework/Versions/3.6/lib/python3.6/site-packages/tensorflow/contrib/learn/python/learn/datasets/base.py:198: retry (from tensorflow.contrib.learn.python.learn.datasets.base) is deprecated and will be removed in a future version.\n",
      "Instructions for updating:\n",
      "Use the retry module or similar alternatives.\n",
      "Train on 20000 samples, validate on 5000 samples\n",
      "Epoch 1/20\n",
      "20000/20000 [==============================] - 74s 4ms/step - loss: 0.6353 - acc: 0.6521 - val_loss: 0.4151 - val_acc: 0.8332\n",
      "Epoch 2/20\n",
      "20000/20000 [==============================] - 75s 4ms/step - loss: 0.4666 - acc: 0.8106 - val_loss: 0.4261 - val_acc: 0.8252\n",
      "Epoch 3/20\n",
      "20000/20000 [==============================] - 75s 4ms/step - loss: 0.3783 - acc: 0.8159 - val_loss: 0.5011 - val_acc: 0.7650\n",
      "Epoch 4/20\n",
      "20000/20000 [==============================] - 75s 4ms/step - loss: 0.3556 - acc: 0.7654 - val_loss: 0.4948 - val_acc: 0.7784\n",
      "Epoch 5/20\n",
      "20000/20000 [==============================] - 80s 4ms/step - loss: 0.3084 - acc: 0.7365 - val_loss: 0.4970 - val_acc: 0.7384\n",
      "Epoch 6/20\n",
      "20000/20000 [==============================] - 79s 4ms/step - loss: 0.2736 - acc: 0.7341 - val_loss: 0.6173 - val_acc: 0.6744\n",
      "Epoch 7/20\n",
      "20000/20000 [==============================] - 79s 4ms/step - loss: 0.2256 - acc: 0.6601 - val_loss: 0.6931 - val_acc: 0.5770\n",
      "Epoch 8/20\n",
      "20000/20000 [==============================] - 59s 3ms/step - loss: 0.1926 - acc: 0.5975 - val_loss: 0.7648 - val_acc: 0.5208\n",
      "Epoch 9/20\n",
      "20000/20000 [==============================] - 73s 4ms/step - loss: 0.1752 - acc: 0.5407 - val_loss: 0.7533 - val_acc: 0.5034\n",
      "Epoch 10/20\n",
      "20000/20000 [==============================] - 74s 4ms/step - loss: 0.1348 - acc: 0.4858 - val_loss: 0.9121 - val_acc: 0.4084\n",
      "Epoch 11/20\n",
      "20000/20000 [==============================] - 73s 4ms/step - loss: 0.1173 - acc: 0.4004 - val_loss: 1.5013 - val_acc: 0.3126\n",
      "Epoch 12/20\n",
      "20000/20000 [==============================] - 74s 4ms/step - loss: 0.1023 - acc: 0.3573 - val_loss: 1.0132 - val_acc: 0.3182\n",
      "Epoch 13/20\n",
      "20000/20000 [==============================] - 74s 4ms/step - loss: 0.1037 - acc: 0.2966 - val_loss: 1.0263 - val_acc: 0.2976\n",
      "Epoch 14/20\n",
      "20000/20000 [==============================] - 73s 4ms/step - loss: 0.0988 - acc: 0.2647 - val_loss: 1.0213 - val_acc: 0.3020\n",
      "Epoch 15/20\n",
      "20000/20000 [==============================] - 73s 4ms/step - loss: 0.0988 - acc: 0.2324 - val_loss: 1.0953 - val_acc: 0.2730\n",
      "Epoch 16/20\n",
      "20000/20000 [==============================] - 73s 4ms/step - loss: 0.0958 - acc: 0.1995 - val_loss: 1.3070 - val_acc: 0.2660\n",
      "Epoch 17/20\n",
      "20000/20000 [==============================] - 74s 4ms/step - loss: 0.0962 - acc: 0.1805 - val_loss: 1.1707 - val_acc: 0.2418\n",
      "Epoch 18/20\n",
      "20000/20000 [==============================] - 73s 4ms/step - loss: 0.0902 - acc: 0.1575 - val_loss: 1.2237 - val_acc: 0.2284\n",
      "Epoch 19/20\n",
      "20000/20000 [==============================] - 74s 4ms/step - loss: 0.1062 - acc: 0.1458 - val_loss: 1.1460 - val_acc: 0.2392\n",
      "Epoch 20/20\n",
      "20000/20000 [==============================] - 74s 4ms/step - loss: 0.0970 - acc: 0.1387 - val_loss: 1.3443 - val_acc: 0.2202\n"
     ]
    }
   ],
   "source": [
    "callbacks = [\n",
    "    keras.callbacks.TensorBoard(\n",
    "      log_dir = '/Users/samskinner/code/deeplearning/logs',\n",
    "      histogram_freq=1,\n",
    "      embeddings_freq=1,\n",
    "    )\n",
    "]\n",
    "\n",
    "history = model.fit(x_train, y_train,\n",
    "                   epochs = 20,\n",
    "                   batch_size=128,\n",
    "                   validation_split=0.2,\n",
    "                   callbacks=callbacks)"
   ]
  },
  {
   "cell_type": "code",
   "execution_count": null,
   "metadata": {},
   "outputs": [],
   "source": []
  }
 ],
 "metadata": {
  "kernelspec": {
   "display_name": "Python 3",
   "language": "python",
   "name": "python3"
  },
  "language_info": {
   "codemirror_mode": {
    "name": "ipython",
    "version": 3
   },
   "file_extension": ".py",
   "mimetype": "text/x-python",
   "name": "python",
   "nbconvert_exporter": "python",
   "pygments_lexer": "ipython3",
   "version": "3.6.3"
  }
 },
 "nbformat": 4,
 "nbformat_minor": 2
}
